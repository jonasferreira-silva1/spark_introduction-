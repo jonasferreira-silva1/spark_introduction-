{
  "cells": [
    {
      "cell_type": "markdown",
      "metadata": {
        "id": "k46CQak6-yWG"
      },
      "source": [
        "\n",
        "#Introdução ao Apache Spark\n",
        "\n",
        "Apache Spark é um framework de processamento de dados de código aberto projetado para ser rápido, fácil de usar e geral. Ele permite o processamento distribuído de grandes volumes de dados em clusters, suportando tarefas de processamento em lote e em tempo real. Spark é amplamente utilizado para análise de dados, aprendizado de máquina, processamento de streaming e muito mais.\n"
      ]
    },
    {
      "cell_type": "markdown",
      "metadata": {
        "id": "MeFL6KxK_B7B"
      },
      "source": [
        "#### História e Marcos do Apache Spark\n",
        "*  2009: Desenvolvido originalmente na UC Berkeley’s AMPLab.\n",
        "*  2010: Spark foi open-sourced.\n",
        "*  2014: Tornou-se um projeto de alto nível da Apache Software Foundation.\n",
        "*  2016: Spark 2.0 lançado, introduzindo DataFrames e Spark SQL.\n",
        "*  2020: Spark 3.0 lançado, trazendo melhorias significativas em desempenho e novas APIs.\n",
        "*  2024: Spark continua evoluindo, com foco em otimizações de desempenho e integração com tecnologias emergentes."
      ]
    },
    {
      "cell_type": "markdown",
      "metadata": {
        "id": "gXA3ECk3AIsw"
      },
      "source": [
        "#Fundamentos do Apache Spark\n",
        "#### RDDs (Resilient Distributed Datasets)\n",
        "\n",
        "RDDs são a abstração fundamental no Spark, representando uma coleção distribuída de elementos que podem ser processados em paralelo. Eles são imutáveis e tolerantes a falhas.\n",
        "\n",
        "##### Características:\n",
        "\n",
        "* Imutabilidade: Uma vez criado, um RDD não pode ser alterado.\n",
        "* Tolerância a falhas: Spark reconstrói automaticamente partes perdidas dos RDDs.\n",
        "* Transformações e Ações: Operações que transformam os dados ou coletam resultados.\n",
        "\n",
        "#### RDDs (Resilient Distributed Datasets)\n",
        "\n",
        "#### **DataFrames**\n",
        "\n",
        "DataFrames são uma abstração mais estruturada sobre RDDs, semelhantes a tabelas em bancos de dados relacionais. Eles permitem operações otimizadas e integração com Spark SQL.\n",
        "\n",
        "**Vantagens:**\n",
        "\n",
        "* Performance: Otimizações como o Catalyst Optimizer melhoram o desempenho.\n",
        "* Facilidade de Uso: APIs mais amigáveis para manipulação de dados estruturados.\n",
        "* Integração: Compatível com diversas fontes de dados e ferramentas de BI.\n",
        "\n",
        "\n",
        "** Datasets Utilizados **\n",
        "\n",
        "https://www.kaggle.com/datasets/shubhambathwal/flight-price-prediction"
      ]
    },
    {
      "cell_type": "code",
      "execution_count": 2,
      "metadata": {
        "colab": {
          "base_uri": "https://localhost:8080/"
        },
        "id": "fPIwCUX0-D8a",
        "outputId": "bc11e510-54a4-4970-9df9-1909359be0ee"
      },
      "outputs": [
        {
          "name": "stdout",
          "output_type": "stream",
          "text": [
            "Requirement already satisfied: pyspark in c:\\users\\jonas\\appdata\\local\\programs\\python\\python312\\lib\\site-packages (3.5.3)\n",
            "Requirement already satisfied: py4j==0.10.9.7 in c:\\users\\jonas\\appdata\\local\\programs\\python\\python312\\lib\\site-packages (from pyspark) (0.10.9.7)\n",
            "Note: you may need to restart the kernel to use updated packages.\n"
          ]
        }
      ],
      "source": [
        "# Instalar PySpark via pip\n",
        "%pip install pyspark"
      ]
    },
    {
      "cell_type": "code",
      "execution_count": 3,
      "metadata": {
        "colab": {
          "base_uri": "https://localhost:8080/"
        },
        "id": "BxhhcwsfscYT",
        "outputId": "35a7cbe2-e205-453c-e496-e7cecf95daf0"
      },
      "outputs": [
        {
          "name": "stderr",
          "output_type": "stream",
          "text": [
            "c:\\Users\\jonas\\AppData\\Local\\Programs\\Python\\Python312\\Lib\\site-packages\\tqdm\\auto.py:21: TqdmWarning: IProgress not found. Please update jupyter and ipywidgets. See https://ipywidgets.readthedocs.io/en/stable/user_install.html\n",
            "  from .autonotebook import tqdm as notebook_tqdm\n"
          ]
        },
        {
          "name": "stdout",
          "output_type": "stream",
          "text": [
            "Path to dataset files: C:\\Users\\jonas\\.cache\\kagglehub\\datasets\\christofferms\\pokemon-with-stats-and-image\\versions\\1\n"
          ]
        }
      ],
      "source": [
        "import kagglehub\n",
        "\n",
        "# Download latest version\n",
        "path = kagglehub.dataset_download(\"christofferms/pokemon-with-stats-and-image\")\n",
        "\n",
        "print(\"Path to dataset files:\", path)"
      ]
    },
    {
      "cell_type": "code",
      "execution_count": 4,
      "metadata": {
        "id": "ZKDUH38tSMgE"
      },
      "outputs": [],
      "source": [
        "# Iniciar uma Sessão Spark\n",
        "from pyspark.sql import SparkSession\n",
        "\n",
        "spark = SparkSession.builder \\\n",
        "    .appName(\"ExemploPySpark\") \\\n",
        "    .getOrCreate()"
      ]
    },
    {
      "cell_type": "markdown",
      "metadata": {
        "id": "PbTdKPDVTaDq"
      },
      "source": [
        "**Comparando métodos do pandas x métodos do PySpark**\n",
        "\n",
        "Leitura de Dados:"
      ]
    },
    {
      "cell_type": "code",
      "execution_count": 7,
      "metadata": {
        "id": "1SR12OBgSX_w"
      },
      "outputs": [
        {
          "name": "stdout",
          "output_type": "stream",
          "text": [
            "          Image  Index                    Name Type 1  Type 2  Total  HP  \\\n",
            "0  images/1.png      1               Bulbasaur  Grass  Poison    318  45   \n",
            "1  images/2.png      2                 Ivysaur  Grass  Poison    405  60   \n",
            "2  images/3.png      3                Venusaur  Grass  Poison    525  80   \n",
            "3  images/4.png      3  Venusaur Mega Venusaur  Grass  Poison    625  80   \n",
            "\n",
            "   Attack  Defense  SP. Atk.  SP. Def  Speed  \n",
            "0      49       49        65       65     45  \n",
            "1      62       63        80       80     60  \n",
            "2      82       83       100      100     80  \n",
            "3     100      123       122      120     80  \n"
          ]
        }
      ],
      "source": [
        "import pandas as pd\n",
        "\n",
        "# Certifique-se de que o caminho está correto para o seu sistema\n",
        "csv_path = \"C:/Users/jonas/.cache/kagglehub/datasets/christofferms/pokemon-with-stats-and-image/versions/1/pokedex.csv\"\n",
        "\n",
        "# Verificar se o arquivo existe\n",
        "import os\n",
        "if not os.path.exists(csv_path):\n",
        "    print(f\"Arquivo não encontrado no caminho: {csv_path}\")\n",
        "else:\n",
        "    # Leitura do CSV\n",
        "    df_pandas = pd.read_csv(csv_path)\n",
        "    print(df_pandas.head(4))\n"
      ]
    },
    {
      "cell_type": "code",
      "execution_count": 6,
      "metadata": {
        "colab": {
          "base_uri": "https://localhost:8080/",
          "height": 175
        },
        "id": "7vYjahCwsvh3",
        "outputId": "3f265983-644b-4757-d5a5-8a2ffd461cea"
      },
      "outputs": [
        {
          "data": {
            "application/vnd.google.colaboratory.intrinsic+json": {
              "summary": "{\n  \"name\": \"df_pandas\",\n  \"rows\": 1215,\n  \"fields\": [\n    {\n      \"column\": \"Image\",\n      \"properties\": {\n        \"dtype\": \"string\",\n        \"num_unique_values\": 1215,\n        \"samples\": [\n          \"images/740.png\",\n          \"images/789.png\",\n          \"images/44.png\"\n        ],\n        \"semantic_type\": \"\",\n        \"description\": \"\"\n      }\n    },\n    {\n      \"column\": \"Index\",\n      \"properties\": {\n        \"dtype\": \"number\",\n        \"std\": 298,\n        \"min\": 1,\n        \"max\": 1025,\n        \"num_unique_values\": 1025,\n        \"samples\": [\n          528,\n          360,\n          448\n        ],\n        \"semantic_type\": \"\",\n        \"description\": \"\"\n      }\n    },\n    {\n      \"column\": \"Name\",\n      \"properties\": {\n        \"dtype\": \"string\",\n        \"num_unique_values\": 1215,\n        \"samples\": [\n          \"Cryogonal\",\n          \"Delphox\",\n          \"Nidoran\\u2642\"\n        ],\n        \"semantic_type\": \"\",\n        \"description\": \"\"\n      }\n    },\n    {\n      \"column\": \"Type 1\",\n      \"properties\": {\n        \"dtype\": \"category\",\n        \"num_unique_values\": 18,\n        \"samples\": [\n          \"Grass\",\n          \"Fire\",\n          \"Ground\"\n        ],\n        \"semantic_type\": \"\",\n        \"description\": \"\"\n      }\n    },\n    {\n      \"column\": \"Type 2\",\n      \"properties\": {\n        \"dtype\": \"category\",\n        \"num_unique_values\": 18,\n        \"samples\": [\n          \"Poison\",\n          \"Flying\",\n          \"Grass\"\n        ],\n        \"semantic_type\": \"\",\n        \"description\": \"\"\n      }\n    },\n    {\n      \"column\": \"Total\",\n      \"properties\": {\n        \"dtype\": \"number\",\n        \"std\": 121,\n        \"min\": 175,\n        \"max\": 1125,\n        \"num_unique_values\": 228,\n        \"samples\": [\n          1125,\n          328,\n          630\n        ],\n        \"semantic_type\": \"\",\n        \"description\": \"\"\n      }\n    },\n    {\n      \"column\": \"HP\",\n      \"properties\": {\n        \"dtype\": \"number\",\n        \"std\": 26,\n        \"min\": 1,\n        \"max\": 255,\n        \"num_unique_values\": 109,\n        \"samples\": [\n          62,\n          40,\n          58\n        ],\n        \"semantic_type\": \"\",\n        \"description\": \"\"\n      }\n    },\n    {\n      \"column\": \"Attack\",\n      \"properties\": {\n        \"dtype\": \"number\",\n        \"std\": 32,\n        \"min\": 5,\n        \"max\": 190,\n        \"num_unique_values\": 126,\n        \"samples\": [\n          66,\n          150,\n          181\n        ],\n        \"semantic_type\": \"\",\n        \"description\": \"\"\n      }\n    },\n    {\n      \"column\": \"Defense\",\n      \"properties\": {\n        \"dtype\": \"number\",\n        \"std\": 30,\n        \"min\": 5,\n        \"max\": 250,\n        \"num_unique_values\": 115,\n        \"samples\": [\n          76,\n          43,\n          160\n        ],\n        \"semantic_type\": \"\",\n        \"description\": \"\"\n      }\n    },\n    {\n      \"column\": \"SP. Atk.\",\n      \"properties\": {\n        \"dtype\": \"number\",\n        \"std\": 32,\n        \"min\": 10,\n        \"max\": 194,\n        \"num_unique_values\": 127,\n        \"samples\": [\n          30,\n          113,\n          41\n        ],\n        \"semantic_type\": \"\",\n        \"description\": \"\"\n      }\n    },\n    {\n      \"column\": \"SP. Def\",\n      \"properties\": {\n        \"dtype\": \"number\",\n        \"std\": 27,\n        \"min\": 20,\n        \"max\": 250,\n        \"num_unique_values\": 107,\n        \"samples\": [\n          126,\n          25,\n          50\n        ],\n        \"semantic_type\": \"\",\n        \"description\": \"\"\n      }\n    },\n    {\n      \"column\": \"Speed\",\n      \"properties\": {\n        \"dtype\": \"number\",\n        \"std\": 30,\n        \"min\": 5,\n        \"max\": 200,\n        \"num_unique_values\": 127,\n        \"samples\": [\n          41,\n          117,\n          24\n        ],\n        \"semantic_type\": \"\",\n        \"description\": \"\"\n      }\n    }\n  ]\n}",
              "type": "dataframe",
              "variable_name": "df_pandas"
            },
            "text/html": [
              "\n",
              "  <div id=\"df-f2d6941f-c40c-476d-8e8a-92dbf5f813c1\" class=\"colab-df-container\">\n",
              "    <div>\n",
              "<style scoped>\n",
              "    .dataframe tbody tr th:only-of-type {\n",
              "        vertical-align: middle;\n",
              "    }\n",
              "\n",
              "    .dataframe tbody tr th {\n",
              "        vertical-align: top;\n",
              "    }\n",
              "\n",
              "    .dataframe thead th {\n",
              "        text-align: right;\n",
              "    }\n",
              "</style>\n",
              "<table border=\"1\" class=\"dataframe\">\n",
              "  <thead>\n",
              "    <tr style=\"text-align: right;\">\n",
              "      <th></th>\n",
              "      <th>Image</th>\n",
              "      <th>Index</th>\n",
              "      <th>Name</th>\n",
              "      <th>Type 1</th>\n",
              "      <th>Type 2</th>\n",
              "      <th>Total</th>\n",
              "      <th>HP</th>\n",
              "      <th>Attack</th>\n",
              "      <th>Defense</th>\n",
              "      <th>SP. Atk.</th>\n",
              "      <th>SP. Def</th>\n",
              "      <th>Speed</th>\n",
              "    </tr>\n",
              "  </thead>\n",
              "  <tbody>\n",
              "    <tr>\n",
              "      <th>0</th>\n",
              "      <td>images/1.png</td>\n",
              "      <td>1</td>\n",
              "      <td>Bulbasaur</td>\n",
              "      <td>Grass</td>\n",
              "      <td>Poison</td>\n",
              "      <td>318</td>\n",
              "      <td>45</td>\n",
              "      <td>49</td>\n",
              "      <td>49</td>\n",
              "      <td>65</td>\n",
              "      <td>65</td>\n",
              "      <td>45</td>\n",
              "    </tr>\n",
              "    <tr>\n",
              "      <th>1</th>\n",
              "      <td>images/2.png</td>\n",
              "      <td>2</td>\n",
              "      <td>Ivysaur</td>\n",
              "      <td>Grass</td>\n",
              "      <td>Poison</td>\n",
              "      <td>405</td>\n",
              "      <td>60</td>\n",
              "      <td>62</td>\n",
              "      <td>63</td>\n",
              "      <td>80</td>\n",
              "      <td>80</td>\n",
              "      <td>60</td>\n",
              "    </tr>\n",
              "    <tr>\n",
              "      <th>2</th>\n",
              "      <td>images/3.png</td>\n",
              "      <td>3</td>\n",
              "      <td>Venusaur</td>\n",
              "      <td>Grass</td>\n",
              "      <td>Poison</td>\n",
              "      <td>525</td>\n",
              "      <td>80</td>\n",
              "      <td>82</td>\n",
              "      <td>83</td>\n",
              "      <td>100</td>\n",
              "      <td>100</td>\n",
              "      <td>80</td>\n",
              "    </tr>\n",
              "    <tr>\n",
              "      <th>3</th>\n",
              "      <td>images/4.png</td>\n",
              "      <td>3</td>\n",
              "      <td>Venusaur Mega Venusaur</td>\n",
              "      <td>Grass</td>\n",
              "      <td>Poison</td>\n",
              "      <td>625</td>\n",
              "      <td>80</td>\n",
              "      <td>100</td>\n",
              "      <td>123</td>\n",
              "      <td>122</td>\n",
              "      <td>120</td>\n",
              "      <td>80</td>\n",
              "    </tr>\n",
              "  </tbody>\n",
              "</table>\n",
              "</div>\n",
              "    <div class=\"colab-df-buttons\">\n",
              "\n",
              "  <div class=\"colab-df-container\">\n",
              "    <button class=\"colab-df-convert\" onclick=\"convertToInteractive('df-f2d6941f-c40c-476d-8e8a-92dbf5f813c1')\"\n",
              "            title=\"Convert this dataframe to an interactive table.\"\n",
              "            style=\"display:none;\">\n",
              "\n",
              "  <svg xmlns=\"http://www.w3.org/2000/svg\" height=\"24px\" viewBox=\"0 -960 960 960\">\n",
              "    <path d=\"M120-120v-720h720v720H120Zm60-500h600v-160H180v160Zm220 220h160v-160H400v160Zm0 220h160v-160H400v160ZM180-400h160v-160H180v160Zm440 0h160v-160H620v160ZM180-180h160v-160H180v160Zm440 0h160v-160H620v160Z\"/>\n",
              "  </svg>\n",
              "    </button>\n",
              "\n",
              "  <style>\n",
              "    .colab-df-container {\n",
              "      display:flex;\n",
              "      gap: 12px;\n",
              "    }\n",
              "\n",
              "    .colab-df-convert {\n",
              "      background-color: #E8F0FE;\n",
              "      border: none;\n",
              "      border-radius: 50%;\n",
              "      cursor: pointer;\n",
              "      display: none;\n",
              "      fill: #1967D2;\n",
              "      height: 32px;\n",
              "      padding: 0 0 0 0;\n",
              "      width: 32px;\n",
              "    }\n",
              "\n",
              "    .colab-df-convert:hover {\n",
              "      background-color: #E2EBFA;\n",
              "      box-shadow: 0px 1px 2px rgba(60, 64, 67, 0.3), 0px 1px 3px 1px rgba(60, 64, 67, 0.15);\n",
              "      fill: #174EA6;\n",
              "    }\n",
              "\n",
              "    .colab-df-buttons div {\n",
              "      margin-bottom: 4px;\n",
              "    }\n",
              "\n",
              "    [theme=dark] .colab-df-convert {\n",
              "      background-color: #3B4455;\n",
              "      fill: #D2E3FC;\n",
              "    }\n",
              "\n",
              "    [theme=dark] .colab-df-convert:hover {\n",
              "      background-color: #434B5C;\n",
              "      box-shadow: 0px 1px 3px 1px rgba(0, 0, 0, 0.15);\n",
              "      filter: drop-shadow(0px 1px 2px rgba(0, 0, 0, 0.3));\n",
              "      fill: #FFFFFF;\n",
              "    }\n",
              "  </style>\n",
              "\n",
              "    <script>\n",
              "      const buttonEl =\n",
              "        document.querySelector('#df-f2d6941f-c40c-476d-8e8a-92dbf5f813c1 button.colab-df-convert');\n",
              "      buttonEl.style.display =\n",
              "        google.colab.kernel.accessAllowed ? 'block' : 'none';\n",
              "\n",
              "      async function convertToInteractive(key) {\n",
              "        const element = document.querySelector('#df-f2d6941f-c40c-476d-8e8a-92dbf5f813c1');\n",
              "        const dataTable =\n",
              "          await google.colab.kernel.invokeFunction('convertToInteractive',\n",
              "                                                    [key], {});\n",
              "        if (!dataTable) return;\n",
              "\n",
              "        const docLinkHtml = 'Like what you see? Visit the ' +\n",
              "          '<a target=\"_blank\" href=https://colab.research.google.com/notebooks/data_table.ipynb>data table notebook</a>'\n",
              "          + ' to learn more about interactive tables.';\n",
              "        element.innerHTML = '';\n",
              "        dataTable['output_type'] = 'display_data';\n",
              "        await google.colab.output.renderOutput(dataTable, element);\n",
              "        const docLink = document.createElement('div');\n",
              "        docLink.innerHTML = docLinkHtml;\n",
              "        element.appendChild(docLink);\n",
              "      }\n",
              "    </script>\n",
              "  </div>\n",
              "\n",
              "\n",
              "<div id=\"df-b74ab5f2-4bf3-48dd-b7fb-34ca4e2b6a46\">\n",
              "  <button class=\"colab-df-quickchart\" onclick=\"quickchart('df-b74ab5f2-4bf3-48dd-b7fb-34ca4e2b6a46')\"\n",
              "            title=\"Suggest charts\"\n",
              "            style=\"display:none;\">\n",
              "\n",
              "<svg xmlns=\"http://www.w3.org/2000/svg\" height=\"24px\"viewBox=\"0 0 24 24\"\n",
              "     width=\"24px\">\n",
              "    <g>\n",
              "        <path d=\"M19 3H5c-1.1 0-2 .9-2 2v14c0 1.1.9 2 2 2h14c1.1 0 2-.9 2-2V5c0-1.1-.9-2-2-2zM9 17H7v-7h2v7zm4 0h-2V7h2v10zm4 0h-2v-4h2v4z\"/>\n",
              "    </g>\n",
              "</svg>\n",
              "  </button>\n",
              "\n",
              "<style>\n",
              "  .colab-df-quickchart {\n",
              "      --bg-color: #E8F0FE;\n",
              "      --fill-color: #1967D2;\n",
              "      --hover-bg-color: #E2EBFA;\n",
              "      --hover-fill-color: #174EA6;\n",
              "      --disabled-fill-color: #AAA;\n",
              "      --disabled-bg-color: #DDD;\n",
              "  }\n",
              "\n",
              "  [theme=dark] .colab-df-quickchart {\n",
              "      --bg-color: #3B4455;\n",
              "      --fill-color: #D2E3FC;\n",
              "      --hover-bg-color: #434B5C;\n",
              "      --hover-fill-color: #FFFFFF;\n",
              "      --disabled-bg-color: #3B4455;\n",
              "      --disabled-fill-color: #666;\n",
              "  }\n",
              "\n",
              "  .colab-df-quickchart {\n",
              "    background-color: var(--bg-color);\n",
              "    border: none;\n",
              "    border-radius: 50%;\n",
              "    cursor: pointer;\n",
              "    display: none;\n",
              "    fill: var(--fill-color);\n",
              "    height: 32px;\n",
              "    padding: 0;\n",
              "    width: 32px;\n",
              "  }\n",
              "\n",
              "  .colab-df-quickchart:hover {\n",
              "    background-color: var(--hover-bg-color);\n",
              "    box-shadow: 0 1px 2px rgba(60, 64, 67, 0.3), 0 1px 3px 1px rgba(60, 64, 67, 0.15);\n",
              "    fill: var(--button-hover-fill-color);\n",
              "  }\n",
              "\n",
              "  .colab-df-quickchart-complete:disabled,\n",
              "  .colab-df-quickchart-complete:disabled:hover {\n",
              "    background-color: var(--disabled-bg-color);\n",
              "    fill: var(--disabled-fill-color);\n",
              "    box-shadow: none;\n",
              "  }\n",
              "\n",
              "  .colab-df-spinner {\n",
              "    border: 2px solid var(--fill-color);\n",
              "    border-color: transparent;\n",
              "    border-bottom-color: var(--fill-color);\n",
              "    animation:\n",
              "      spin 1s steps(1) infinite;\n",
              "  }\n",
              "\n",
              "  @keyframes spin {\n",
              "    0% {\n",
              "      border-color: transparent;\n",
              "      border-bottom-color: var(--fill-color);\n",
              "      border-left-color: var(--fill-color);\n",
              "    }\n",
              "    20% {\n",
              "      border-color: transparent;\n",
              "      border-left-color: var(--fill-color);\n",
              "      border-top-color: var(--fill-color);\n",
              "    }\n",
              "    30% {\n",
              "      border-color: transparent;\n",
              "      border-left-color: var(--fill-color);\n",
              "      border-top-color: var(--fill-color);\n",
              "      border-right-color: var(--fill-color);\n",
              "    }\n",
              "    40% {\n",
              "      border-color: transparent;\n",
              "      border-right-color: var(--fill-color);\n",
              "      border-top-color: var(--fill-color);\n",
              "    }\n",
              "    60% {\n",
              "      border-color: transparent;\n",
              "      border-right-color: var(--fill-color);\n",
              "    }\n",
              "    80% {\n",
              "      border-color: transparent;\n",
              "      border-right-color: var(--fill-color);\n",
              "      border-bottom-color: var(--fill-color);\n",
              "    }\n",
              "    90% {\n",
              "      border-color: transparent;\n",
              "      border-bottom-color: var(--fill-color);\n",
              "    }\n",
              "  }\n",
              "</style>\n",
              "\n",
              "  <script>\n",
              "    async function quickchart(key) {\n",
              "      const quickchartButtonEl =\n",
              "        document.querySelector('#' + key + ' button');\n",
              "      quickchartButtonEl.disabled = true;  // To prevent multiple clicks.\n",
              "      quickchartButtonEl.classList.add('colab-df-spinner');\n",
              "      try {\n",
              "        const charts = await google.colab.kernel.invokeFunction(\n",
              "            'suggestCharts', [key], {});\n",
              "      } catch (error) {\n",
              "        console.error('Error during call to suggestCharts:', error);\n",
              "      }\n",
              "      quickchartButtonEl.classList.remove('colab-df-spinner');\n",
              "      quickchartButtonEl.classList.add('colab-df-quickchart-complete');\n",
              "    }\n",
              "    (() => {\n",
              "      let quickchartButtonEl =\n",
              "        document.querySelector('#df-b74ab5f2-4bf3-48dd-b7fb-34ca4e2b6a46 button');\n",
              "      quickchartButtonEl.style.display =\n",
              "        google.colab.kernel.accessAllowed ? 'block' : 'none';\n",
              "    })();\n",
              "  </script>\n",
              "</div>\n",
              "\n",
              "    </div>\n",
              "  </div>\n"
            ],
            "text/plain": [
              "          Image  Index                    Name Type 1  Type 2  Total  HP  \\\n",
              "0  images/1.png      1               Bulbasaur  Grass  Poison    318  45   \n",
              "1  images/2.png      2                 Ivysaur  Grass  Poison    405  60   \n",
              "2  images/3.png      3                Venusaur  Grass  Poison    525  80   \n",
              "3  images/4.png      3  Venusaur Mega Venusaur  Grass  Poison    625  80   \n",
              "\n",
              "   Attack  Defense  SP. Atk.  SP. Def  Speed  \n",
              "0      49       49        65       65     45  \n",
              "1      62       63        80       80     60  \n",
              "2      82       83       100      100     80  \n",
              "3     100      123       122      120     80  "
            ]
          },
          "execution_count": 6,
          "metadata": {},
          "output_type": "execute_result"
        }
      ],
      "source": [
        "df_pandas.head(4)"
      ]
    },
    {
      "cell_type": "code",
      "execution_count": 9,
      "metadata": {
        "id": "KxkLRN6VTweh"
      },
      "outputs": [
        {
          "name": "stdout",
          "output_type": "stream",
          "text": [
            "+------------+-----+--------------------+------+------+-----+---+------+-------+--------+-------+-----+\n",
            "|       Image|Index|                Name|Type 1|Type 2|Total| HP|Attack|Defense|SP. Atk.|SP. Def|Speed|\n",
            "+------------+-----+--------------------+------+------+-----+---+------+-------+--------+-------+-----+\n",
            "|images/1.png|    1|           Bulbasaur| Grass|Poison|  318| 45|    49|     49|      65|     65|   45|\n",
            "|images/2.png|    2|             Ivysaur| Grass|Poison|  405| 60|    62|     63|      80|     80|   60|\n",
            "|images/3.png|    3|            Venusaur| Grass|Poison|  525| 80|    82|     83|     100|    100|   80|\n",
            "|images/4.png|    3|Venusaur Mega Ven...| Grass|Poison|  625| 80|   100|    123|     122|    120|   80|\n",
            "|images/5.png|    4|          Charmander|  Fire|  NULL|  309| 39|    52|     43|      60|     50|   65|\n",
            "+------------+-----+--------------------+------+------+-----+---+------+-------+--------+-------+-----+\n",
            "only showing top 5 rows\n",
            "\n"
          ]
        }
      ],
      "source": [
        "from pyspark.sql import SparkSession\n",
        "\n",
        "# Iniciar uma Sessão Spark\n",
        "spark = SparkSession.builder.appName(\"ExemploLeitura\").getOrCreate()\n",
        "\n",
        "# Caminho do arquivo CSV no seu sistema Windows\n",
        "csv_path = \"C:/Users/jonas/.cache/kagglehub/datasets/christofferms/pokemon-with-stats-and-image/versions/1/pokedex.csv\"\n",
        "\n",
        "# Leitura do CSV com PySpark\n",
        "df_pyspark = spark.read.csv(csv_path, header=True, inferSchema=True)\n",
        "df_pyspark.show(5)  # Verifique se o DataFrame foi carregado corretamente\n"
      ]
    },
    {
      "cell_type": "code",
      "execution_count": 10,
      "metadata": {
        "colab": {
          "base_uri": "https://localhost:8080/"
        },
        "id": "p2JKtAI0s8AA",
        "outputId": "8e3250ce-a289-411e-f6bd-392015eff460"
      },
      "outputs": [
        {
          "name": "stdout",
          "output_type": "stream",
          "text": [
            "Image\n",
            "Index\n",
            "Name\n",
            "Type 1\n",
            "Type 2\n",
            "Total\n",
            "HP\n",
            "Attack\n",
            "Defense\n",
            "SP. Atk.\n",
            "SP. Def\n",
            "Speed\n"
          ]
        }
      ],
      "source": [
        "#Nomes das colunas\n",
        "for i in df_pandas.columns:\n",
        "  print(i)"
      ]
    },
    {
      "cell_type": "markdown",
      "metadata": {
        "id": "CyP1qKuVT7Fn"
      },
      "source": [
        "Seleção de Colunas:"
      ]
    },
    {
      "cell_type": "code",
      "execution_count": 11,
      "metadata": {
        "id": "W7G9niUIT3YF"
      },
      "outputs": [],
      "source": [
        "# Seleciona colunas específicas - Pandas\n",
        "df_selecionado_pandas = df_pandas[['Name', 'Type 1','HP', 'Attack']]"
      ]
    },
    {
      "cell_type": "code",
      "execution_count": 12,
      "metadata": {
        "id": "9_ayFq__ULWC"
      },
      "outputs": [],
      "source": [
        "# Seleciona colunas específicas - PySpark\n",
        "df_selecionado_spark = df_pyspark.select('Name', 'Type 1','HP', 'Attack')"
      ]
    },
    {
      "cell_type": "markdown",
      "metadata": {
        "id": "DLDFhVdBUy6M"
      },
      "source": [
        "Filtragem de Dados:"
      ]
    },
    {
      "cell_type": "code",
      "execution_count": 13,
      "metadata": {
        "id": "NqYRN_ExU1O6"
      },
      "outputs": [],
      "source": [
        "# Filtra linhas onde HP > 5 - Pandas\n",
        "df_filtrado_pandas = df_pandas[df_pandas['HP'] > 5]"
      ]
    },
    {
      "cell_type": "code",
      "execution_count": 14,
      "metadata": {
        "id": "Qq_YKeXNWnNn"
      },
      "outputs": [],
      "source": [
        "# Filtra linhas onde HP > 5 - PySpark\n",
        "df_filtrado_spark = df_pyspark.filter(df_pyspark.HP > 5)"
      ]
    },
    {
      "cell_type": "markdown",
      "metadata": {
        "id": "Fvn8Qfs-W0KX"
      },
      "source": [
        "Agregações:"
      ]
    },
    {
      "cell_type": "code",
      "execution_count": 15,
      "metadata": {
        "id": "5QydNn3yWzkK"
      },
      "outputs": [],
      "source": [
        "# Calcula a média de HP agrupada por Attack - Pandas\n",
        "df_agregado_pandas = df_pandas.groupby('HP')['Attack'].mean().reset_index()"
      ]
    },
    {
      "cell_type": "code",
      "execution_count": 16,
      "metadata": {
        "id": "OeiAonaAW5Cy"
      },
      "outputs": [],
      "source": [
        "# Calcula a média de HP agrupada por Attack - PySpark\n",
        "from pyspark.sql.functions import avg\n",
        "\n",
        "# Calcula a média de coluna1 agrupada por coluna2\n",
        "df_agregado_spark = df_pyspark.groupBy(\"HP\").agg(avg(\"Attack\").alias(\"media_days_left\"))\n"
      ]
    },
    {
      "cell_type": "code",
      "execution_count": 17,
      "metadata": {
        "colab": {
          "base_uri": "https://localhost:8080/"
        },
        "id": "tjTgUhdMuBqf",
        "outputId": "9e1adc5b-a2ed-443b-cf68-6c643262d1fb"
      },
      "outputs": [
        {
          "name": "stdout",
          "output_type": "stream",
          "text": [
            "+--------------------+------+---+------+\n",
            "|                Name|Type 1| HP|Attack|\n",
            "+--------------------+------+---+------+\n",
            "|           Bulbasaur| Grass| 45|    49|\n",
            "|             Ivysaur| Grass| 60|    62|\n",
            "|            Venusaur| Grass| 80|    82|\n",
            "|Venusaur Mega Ven...| Grass| 80|   100|\n",
            "|          Charmander|  Fire| 39|    52|\n",
            "+--------------------+------+---+------+\n",
            "only showing top 5 rows\n",
            "\n",
            "+------------+-----+--------------------+------+------+-----+---+------+-------+--------+-------+-----+\n",
            "|       Image|Index|                Name|Type 1|Type 2|Total| HP|Attack|Defense|SP. Atk.|SP. Def|Speed|\n",
            "+------------+-----+--------------------+------+------+-----+---+------+-------+--------+-------+-----+\n",
            "|images/1.png|    1|           Bulbasaur| Grass|Poison|  318| 45|    49|     49|      65|     65|   45|\n",
            "|images/2.png|    2|             Ivysaur| Grass|Poison|  405| 60|    62|     63|      80|     80|   60|\n",
            "|images/3.png|    3|            Venusaur| Grass|Poison|  525| 80|    82|     83|     100|    100|   80|\n",
            "|images/4.png|    3|Venusaur Mega Ven...| Grass|Poison|  625| 80|   100|    123|     122|    120|   80|\n",
            "|images/5.png|    4|          Charmander|  Fire|  NULL|  309| 39|    52|     43|      60|     50|   65|\n",
            "+------------+-----+--------------------+------+------+-----+---+------+-------+--------+-------+-----+\n",
            "only showing top 5 rows\n",
            "\n",
            "+---+-----------------+\n",
            "| HP|  media_days_left|\n",
            "+---+-----------------+\n",
            "| 31|             45.0|\n",
            "| 85|90.96551724137932|\n",
            "|137|            125.0|\n",
            "| 65|85.80645161290323|\n",
            "|255|             62.5|\n",
            "+---+-----------------+\n",
            "only showing top 5 rows\n",
            "\n"
          ]
        }
      ],
      "source": [
        "df_selecionado_spark.show(5)\n",
        "df_filtrado_spark.show(5)\n",
        "df_agregado_spark.show(5)"
      ]
    },
    {
      "cell_type": "markdown",
      "metadata": {
        "id": "gMjrtx18F3gy"
      },
      "source": [
        "Junções (Joins):"
      ]
    },
    {
      "cell_type": "code",
      "execution_count": 24,
      "metadata": {
        "id": "kdBiDsnpF6AM"
      },
      "outputs": [
        {
          "name": "stdout",
          "output_type": "stream",
          "text": [
            "Arquivo não encontrado no caminho: C:/Users/jonas/.cache/kagglehub/datasets/christofferms/pokemon-with-stats-and-image/versions/1/Pokemon.csv\n",
            "Arquivo não encontrado no caminho: C:/Users/jonas/.cache/kagglehub/datasets/christofferms/pokemon-with-stats-and-image/versions/1/complete_pokemon.csv\n",
            "Certifique-se de que os arquivos CSV estejam no caminho correto.\n"
          ]
        }
      ],
      "source": [
        "# Junção de dois DataFrames pandas\n",
        "df1 = pd.read_csv(\"/content/Pokemon.csv\")\n",
        "df2 = pd.read_csv(\"/content/complete_pokemon.csv\")\n",
        "df2 = df2.rename(columns={'name': 'Name'}) # renomeando a coluna, pq ela tinha o nome com N minusculo.\n",
        "df_juncao = pd.merge(df1, df2, on=\"Name\", how=\"left\")"
      ]
    },
    {
      "cell_type": "code",
      "execution_count": 22,
      "metadata": {
        "id": "_p6-Ad3MF9PX"
      },
      "outputs": [],
      "source": [
        "# Junção de dois DataFrames PySpark\n",
        "df1 = spark.read.csv(\"/content/Pokemon.csv\", header=True, inferSchema=True)\n",
        "df2 = spark.read.csv(\"/content/complete_pokemon.csv\", header=True, inferSchema=True)\n",
        "df_juncao = df1.join(df2, on=\"Name\", how=\"left\")"
      ]
    },
    {
      "cell_type": "markdown",
      "metadata": {
        "id": "KyHq7N4UGCT9"
      },
      "source": [
        "Criação de Novas Colunas:"
      ]
    },
    {
      "cell_type": "code",
      "execution_count": 26,
      "metadata": {
        "id": "F-JSPVrfGEIz"
      },
      "outputs": [],
      "source": [
        "# Cria uma nova coluna 'nova_coluna' como a soma de 'Name' e 'Name'\n",
        "df_pandas['nova_coluna'] = df_pandas['Name'] + df_pandas['Name']"
      ]
    },
    {
      "cell_type": "code",
      "execution_count": 27,
      "metadata": {
        "id": "YtKNc4XfGGQp"
      },
      "outputs": [],
      "source": [
        "from pyspark.sql.functions import col\n",
        "\n",
        "# Cria uma nova coluna 'nova_coluna' como a soma de 'coluna1' e 'coluna2'\n",
        "df_pyspark = df_pyspark.withColumn(\"nova_coluna\", col(\"Name\") + col(\"Name\"))\n"
      ]
    },
    {
      "cell_type": "markdown",
      "metadata": {
        "id": "il5SISWCGK7O"
      },
      "source": [
        "Ordenação de Dados:"
      ]
    },
    {
      "cell_type": "code",
      "execution_count": 26,
      "metadata": {
        "id": "a9vHllFkGJol"
      },
      "outputs": [],
      "source": [
        "# Ordena o DataFrame pelo 'coluna1' em ordem descendente\n",
        "df_pandas_ordenado = df_pandas.sort_values(by='Name', ascending=False)"
      ]
    },
    {
      "cell_type": "code",
      "execution_count": 27,
      "metadata": {
        "colab": {
          "base_uri": "https://localhost:8080/"
        },
        "id": "lsL9ZaryjquP",
        "outputId": "0f16abee-cf5d-4f6f-81e2-47f40a34ce7b"
      },
      "outputs": [
        {
          "name": "stdout",
          "output_type": "stream",
          "text": [
            "              Image  Index                    Name  Type 1  Type 2  Total  \\\n",
            "865  images/866.png    718  Zygarde Complete Forme  Dragon  Ground    708   \n",
            "863  images/864.png    718       Zygarde 50% Forme  Dragon  Ground    600   \n",
            "864  images/865.png    718       Zygarde 10% Forme  Dragon  Ground    486   \n",
            "760  images/761.png    634                Zweilous    Dark  Dragon    420   \n",
            "54    images/55.png     41                   Zubat  Poison  Flying    245   \n",
            "\n",
            "      HP  Attack  Defense  SP. Atk.  SP. Def  Speed  \n",
            "865  216     100      121        91       95     85  \n",
            "863  108     100      121        81       95     95  \n",
            "864   54     100       71        61       85    115  \n",
            "760   72      85       70        65       70     58  \n",
            "54    40      45       35        30       40     55  \n"
          ]
        }
      ],
      "source": [
        "print(df_pandas_ordenado.head(5))"
      ]
    },
    {
      "cell_type": "code",
      "execution_count": 30,
      "metadata": {
        "id": "A8CU8GXLGNbD"
      },
      "outputs": [],
      "source": [
        "# Ordena o DataFrame pelo 'coluna1' em ordem descendente\n",
        "df_pyspark_ordenado = df_pyspark.orderBy(df_pyspark.Name.desc())"
      ]
    },
    {
      "cell_type": "code",
      "execution_count": 32,
      "metadata": {
        "colab": {
          "base_uri": "https://localhost:8080/"
        },
        "id": "E7lr1ylyj0EO",
        "outputId": "e70416cc-1f6e-46b6-f8bb-e06c34d8b86f"
      },
      "outputs": [
        {
          "name": "stdout",
          "output_type": "stream",
          "text": [
            "+--------------+-----+--------------------+------+------+-----+---+------+-------+--------+-------+-----+-----------+\n",
            "|         Image|Index|                Name|Type 1|Type 2|Total| HP|Attack|Defense|SP. Atk.|SP. Def|Speed|nova_coluna|\n",
            "+--------------+-----+--------------------+------+------+-----+---+------+-------+--------+-------+-----+-----------+\n",
            "|images/866.png|  718|Zygarde Complete ...|Dragon|Ground|  708|216|   100|    121|      91|     95|   85|       NULL|\n",
            "|images/864.png|  718|   Zygarde 50% Forme|Dragon|Ground|  600|108|   100|    121|      81|     95|   95|       NULL|\n",
            "|images/865.png|  718|   Zygarde 10% Forme|Dragon|Ground|  486| 54|   100|     71|      61|     85|  115|       NULL|\n",
            "|images/761.png|  634|            Zweilous|  Dark|Dragon|  420| 72|    85|     70|      65|     70|   58|       NULL|\n",
            "| images/55.png|   41|               Zubat|Poison|Flying|  245| 40|    45|     35|      30|     40|   55|       NULL|\n",
            "+--------------+-----+--------------------+------+------+-----+---+------+-------+--------+-------+-----+-----------+\n",
            "only showing top 5 rows\n",
            "\n",
            "None\n"
          ]
        }
      ],
      "source": [
        "print(df_pyspark_ordenado.show(5))"
      ]
    }
  ],
  "metadata": {
    "colab": {
      "provenance": []
    },
    "kernelspec": {
      "display_name": "Python 3",
      "name": "python3"
    },
    "language_info": {
      "codemirror_mode": {
        "name": "ipython",
        "version": 3
      },
      "file_extension": ".py",
      "mimetype": "text/x-python",
      "name": "python",
      "nbconvert_exporter": "python",
      "pygments_lexer": "ipython3",
      "version": "3.12.0"
    }
  },
  "nbformat": 4,
  "nbformat_minor": 0
}
